{
 "cells": [
  {
   "cell_type": "code",
   "execution_count": 49,
   "id": "c9ad5590-a859-45a9-a2fd-2e66c06667cd",
   "metadata": {},
   "outputs": [],
   "source": [
    "import numpy as np \n",
    "import pandas as pd \n",
    "import matplotlib.pyplot as plt\n",
    "import seaborn as sns\n",
    "from sklearn.preprocessing import LabelEncoder, StandardScaler\n",
    "from sklearn.ensemble import RandomForestClassifier\n",
    "from sklearn.model_selection import train_test_split\n",
    "from sklearn.metrics import classification_report, accuracy_score, confusion_matrix\n",
    "from sklearn.feature_selection import SelectKBest, chi2\n",
    "import warnings\n",
    "warnings.filterwarnings('ignore')"
   ]
  },
  {
   "cell_type": "code",
   "execution_count": 50,
   "id": "df0cd427-6af9-4d4f-b73d-168704d787ac",
   "metadata": {},
   "outputs": [],
   "source": [
    "df = pd.read_csv(\"personality_dataset.csv\")"
   ]
  },
  {
   "cell_type": "code",
   "execution_count": 51,
   "id": "2324ca0b-a3aa-4fb1-bc0d-144aa2581b3a",
   "metadata": {},
   "outputs": [
    {
     "data": {
      "text/html": [
       "<div>\n",
       "<style scoped>\n",
       "    .dataframe tbody tr th:only-of-type {\n",
       "        vertical-align: middle;\n",
       "    }\n",
       "\n",
       "    .dataframe tbody tr th {\n",
       "        vertical-align: top;\n",
       "    }\n",
       "\n",
       "    .dataframe thead th {\n",
       "        text-align: right;\n",
       "    }\n",
       "</style>\n",
       "<table border=\"1\" class=\"dataframe\">\n",
       "  <thead>\n",
       "    <tr style=\"text-align: right;\">\n",
       "      <th></th>\n",
       "      <th>Time_spent_Alone</th>\n",
       "      <th>Stage_fear</th>\n",
       "      <th>Social_event_attendance</th>\n",
       "      <th>Going_outside</th>\n",
       "      <th>Drained_after_socializing</th>\n",
       "      <th>Friends_circle_size</th>\n",
       "      <th>Post_frequency</th>\n",
       "      <th>Personality</th>\n",
       "    </tr>\n",
       "  </thead>\n",
       "  <tbody>\n",
       "    <tr>\n",
       "      <th>314</th>\n",
       "      <td>0.0</td>\n",
       "      <td>No</td>\n",
       "      <td>3.0</td>\n",
       "      <td>7.0</td>\n",
       "      <td>No</td>\n",
       "      <td>6.0</td>\n",
       "      <td>3.0</td>\n",
       "      <td>Extrovert</td>\n",
       "    </tr>\n",
       "    <tr>\n",
       "      <th>1710</th>\n",
       "      <td>7.0</td>\n",
       "      <td>Yes</td>\n",
       "      <td>0.0</td>\n",
       "      <td>0.0</td>\n",
       "      <td>Yes</td>\n",
       "      <td>1.0</td>\n",
       "      <td>0.0</td>\n",
       "      <td>Introvert</td>\n",
       "    </tr>\n",
       "    <tr>\n",
       "      <th>1267</th>\n",
       "      <td>9.0</td>\n",
       "      <td>Yes</td>\n",
       "      <td>0.0</td>\n",
       "      <td>0.0</td>\n",
       "      <td>Yes</td>\n",
       "      <td>3.0</td>\n",
       "      <td>2.0</td>\n",
       "      <td>Introvert</td>\n",
       "    </tr>\n",
       "    <tr>\n",
       "      <th>1196</th>\n",
       "      <td>6.0</td>\n",
       "      <td>Yes</td>\n",
       "      <td>2.0</td>\n",
       "      <td>2.0</td>\n",
       "      <td>Yes</td>\n",
       "      <td>0.0</td>\n",
       "      <td>2.0</td>\n",
       "      <td>Extrovert</td>\n",
       "    </tr>\n",
       "    <tr>\n",
       "      <th>1</th>\n",
       "      <td>9.0</td>\n",
       "      <td>Yes</td>\n",
       "      <td>0.0</td>\n",
       "      <td>0.0</td>\n",
       "      <td>Yes</td>\n",
       "      <td>0.0</td>\n",
       "      <td>3.0</td>\n",
       "      <td>Introvert</td>\n",
       "    </tr>\n",
       "    <tr>\n",
       "      <th>...</th>\n",
       "      <td>...</td>\n",
       "      <td>...</td>\n",
       "      <td>...</td>\n",
       "      <td>...</td>\n",
       "      <td>...</td>\n",
       "      <td>...</td>\n",
       "      <td>...</td>\n",
       "      <td>...</td>\n",
       "    </tr>\n",
       "    <tr>\n",
       "      <th>979</th>\n",
       "      <td>1.0</td>\n",
       "      <td>No</td>\n",
       "      <td>5.0</td>\n",
       "      <td>7.0</td>\n",
       "      <td>No</td>\n",
       "      <td>13.0</td>\n",
       "      <td>7.0</td>\n",
       "      <td>Extrovert</td>\n",
       "    </tr>\n",
       "    <tr>\n",
       "      <th>677</th>\n",
       "      <td>3.0</td>\n",
       "      <td>No</td>\n",
       "      <td>6.0</td>\n",
       "      <td>5.0</td>\n",
       "      <td>No</td>\n",
       "      <td>6.0</td>\n",
       "      <td>8.0</td>\n",
       "      <td>Extrovert</td>\n",
       "    </tr>\n",
       "    <tr>\n",
       "      <th>819</th>\n",
       "      <td>NaN</td>\n",
       "      <td>Yes</td>\n",
       "      <td>2.0</td>\n",
       "      <td>1.0</td>\n",
       "      <td>Yes</td>\n",
       "      <td>5.0</td>\n",
       "      <td>1.0</td>\n",
       "      <td>Introvert</td>\n",
       "    </tr>\n",
       "    <tr>\n",
       "      <th>499</th>\n",
       "      <td>3.0</td>\n",
       "      <td>No</td>\n",
       "      <td>6.0</td>\n",
       "      <td>7.0</td>\n",
       "      <td>No</td>\n",
       "      <td>12.0</td>\n",
       "      <td>4.0</td>\n",
       "      <td>Extrovert</td>\n",
       "    </tr>\n",
       "    <tr>\n",
       "      <th>918</th>\n",
       "      <td>11.0</td>\n",
       "      <td>Yes</td>\n",
       "      <td>2.0</td>\n",
       "      <td>0.0</td>\n",
       "      <td>Yes</td>\n",
       "      <td>5.0</td>\n",
       "      <td>0.0</td>\n",
       "      <td>Introvert</td>\n",
       "    </tr>\n",
       "  </tbody>\n",
       "</table>\n",
       "<p>100 rows × 8 columns</p>\n",
       "</div>"
      ],
      "text/plain": [
       "      Time_spent_Alone Stage_fear  Social_event_attendance  Going_outside  \\\n",
       "314                0.0         No                      3.0            7.0   \n",
       "1710               7.0        Yes                      0.0            0.0   \n",
       "1267               9.0        Yes                      0.0            0.0   \n",
       "1196               6.0        Yes                      2.0            2.0   \n",
       "1                  9.0        Yes                      0.0            0.0   \n",
       "...                ...        ...                      ...            ...   \n",
       "979                1.0         No                      5.0            7.0   \n",
       "677                3.0         No                      6.0            5.0   \n",
       "819                NaN        Yes                      2.0            1.0   \n",
       "499                3.0         No                      6.0            7.0   \n",
       "918               11.0        Yes                      2.0            0.0   \n",
       "\n",
       "     Drained_after_socializing  Friends_circle_size  Post_frequency  \\\n",
       "314                         No                  6.0             3.0   \n",
       "1710                       Yes                  1.0             0.0   \n",
       "1267                       Yes                  3.0             2.0   \n",
       "1196                       Yes                  0.0             2.0   \n",
       "1                          Yes                  0.0             3.0   \n",
       "...                        ...                  ...             ...   \n",
       "979                         No                 13.0             7.0   \n",
       "677                         No                  6.0             8.0   \n",
       "819                        Yes                  5.0             1.0   \n",
       "499                         No                 12.0             4.0   \n",
       "918                        Yes                  5.0             0.0   \n",
       "\n",
       "     Personality  \n",
       "314    Extrovert  \n",
       "1710   Introvert  \n",
       "1267   Introvert  \n",
       "1196   Extrovert  \n",
       "1      Introvert  \n",
       "...          ...  \n",
       "979    Extrovert  \n",
       "677    Extrovert  \n",
       "819    Introvert  \n",
       "499    Extrovert  \n",
       "918    Introvert  \n",
       "\n",
       "[100 rows x 8 columns]"
      ]
     },
     "execution_count": 51,
     "metadata": {},
     "output_type": "execute_result"
    }
   ],
   "source": [
    "df.sample(100)"
   ]
  },
  {
   "cell_type": "code",
   "execution_count": 52,
   "id": "f52455f6-d9cc-487f-8735-ac57586df7b2",
   "metadata": {},
   "outputs": [
    {
     "data": {
      "text/plain": [
       "(2900, 8)"
      ]
     },
     "execution_count": 52,
     "metadata": {},
     "output_type": "execute_result"
    }
   ],
   "source": [
    "df.shape"
   ]
  },
  {
   "cell_type": "code",
   "execution_count": 53,
   "id": "eefa39ca-1a83-49f9-b7d3-c0f78f5f0336",
   "metadata": {},
   "outputs": [
    {
     "name": "stdout",
     "output_type": "stream",
     "text": [
      "<class 'pandas.core.frame.DataFrame'>\n",
      "RangeIndex: 2900 entries, 0 to 2899\n",
      "Data columns (total 8 columns):\n",
      " #   Column                     Non-Null Count  Dtype  \n",
      "---  ------                     --------------  -----  \n",
      " 0   Time_spent_Alone           2837 non-null   float64\n",
      " 1   Stage_fear                 2827 non-null   object \n",
      " 2   Social_event_attendance    2838 non-null   float64\n",
      " 3   Going_outside              2834 non-null   float64\n",
      " 4   Drained_after_socializing  2848 non-null   object \n",
      " 5   Friends_circle_size        2823 non-null   float64\n",
      " 6   Post_frequency             2835 non-null   float64\n",
      " 7   Personality                2900 non-null   object \n",
      "dtypes: float64(5), object(3)\n",
      "memory usage: 181.4+ KB\n"
     ]
    }
   ],
   "source": [
    "df.info()"
   ]
  },
  {
   "cell_type": "code",
   "execution_count": 54,
   "id": "ad36cf79-de60-4da1-9f42-9861cf64b037",
   "metadata": {},
   "outputs": [
    {
     "data": {
      "text/plain": [
       "388"
      ]
     },
     "execution_count": 54,
     "metadata": {},
     "output_type": "execute_result"
    }
   ],
   "source": [
    "df.duplicated().sum()"
   ]
  },
  {
   "cell_type": "code",
   "execution_count": 55,
   "id": "f4d2fc20-7532-4f60-959f-20f9e0fa8f1e",
   "metadata": {},
   "outputs": [],
   "source": [
    "df.drop_duplicates(inplace=True)"
   ]
  },
  {
   "cell_type": "code",
   "execution_count": 56,
   "id": "fb7ecd4e-f015-47ab-adb2-329881ea19df",
   "metadata": {},
   "outputs": [
    {
     "data": {
      "text/plain": [
       "0"
      ]
     },
     "execution_count": 56,
     "metadata": {},
     "output_type": "execute_result"
    }
   ],
   "source": [
    "df.duplicated().sum()"
   ]
  },
  {
   "cell_type": "code",
   "execution_count": 57,
   "id": "f3d4aa8e-f458-432a-ba9c-670eefd47fb6",
   "metadata": {},
   "outputs": [
    {
     "data": {
      "text/plain": [
       "Time_spent_Alone             61\n",
       "Stage_fear                   73\n",
       "Social_event_attendance      61\n",
       "Going_outside                65\n",
       "Drained_after_socializing    51\n",
       "Friends_circle_size          75\n",
       "Post_frequency               63\n",
       "Personality                   0\n",
       "dtype: int64"
      ]
     },
     "execution_count": 57,
     "metadata": {},
     "output_type": "execute_result"
    }
   ],
   "source": [
    "df.isnull().sum()"
   ]
  },
  {
   "cell_type": "code",
   "execution_count": 58,
   "id": "ffff7570-0d2b-494b-ae8a-d55726b3d08b",
   "metadata": {},
   "outputs": [],
   "source": [
    "# select featur columns and targeg column\n",
    "num_features = ['Time_spent_Alone','Social_event_attendance','Going_outside',  'Friends_circle_size','Post_frequency']\n",
    "cat_features = ['Stage_fear','Drained_after_socializing']\n",
    "#cat_features = df.select_dtypes(include= \"object\")\n",
    "target_col = 'Personality'"
   ]
  },
  {
   "cell_type": "markdown",
   "id": "d77bcdc2-42d9-4487-97a1-c970bcd0fbfb",
   "metadata": {},
   "source": [
    "# Numerical Imputation"
   ]
  },
  {
   "cell_type": "code",
   "execution_count": 59,
   "id": "1ecd3813-5582-42ec-9c81-a315cda4614d",
   "metadata": {},
   "outputs": [
    {
     "name": "stdout",
     "output_type": "stream",
     "text": [
      "\u001b[1mNumerica Missing Value\u001b[0m\n",
      "Time_spent_Alone : 61\n",
      "Social_event_attendance : 61\n",
      "Going_outside : 65\n",
      "Friends_circle_size : 75\n",
      "Post_frequency : 63\n"
     ]
    }
   ],
   "source": [
    "bold_start = \"\\033[1m\"\n",
    "bold_end = \"\\033[0m\"\n",
    "\n",
    "print(f\"{bold_start}Numerica Missing Value{bold_end}\")\n",
    "for col in num_features:\n",
    "    print(f\"{col} : {df[col].isnull().sum()}\")\n",
    " "
   ]
  },
  {
   "cell_type": "code",
   "execution_count": 60,
   "id": "e9efe8f5-d0e9-402b-a4c6-d5988d43e92c",
   "metadata": {},
   "outputs": [],
   "source": [
    "#Missing values imputation usin mean\n",
    "df.fillna(df.mean(numeric_only=True), inplace=True)"
   ]
  },
  {
   "cell_type": "code",
   "execution_count": 61,
   "id": "85810396-d717-4364-8a5a-f5386850735e",
   "metadata": {},
   "outputs": [
    {
     "data": {
      "text/plain": [
       "Time_spent_Alone           0\n",
       "Social_event_attendance    0\n",
       "Going_outside              0\n",
       "Friends_circle_size        0\n",
       "Post_frequency             0\n",
       "dtype: int64"
      ]
     },
     "execution_count": 61,
     "metadata": {},
     "output_type": "execute_result"
    }
   ],
   "source": [
    "df[num_features].isnull().sum()"
   ]
  },
  {
   "cell_type": "markdown",
   "id": "092a40e0-5485-4fbe-86c9-2f49cebf8613",
   "metadata": {},
   "source": [
    "# Categorical Imputation"
   ]
  },
  {
   "cell_type": "code",
   "execution_count": 62,
   "id": "1295f0d7-acb6-46d0-9973-12602da97a4a",
   "metadata": {},
   "outputs": [
    {
     "data": {
      "text/plain": [
       "array(['No', 'Yes', nan], dtype=object)"
      ]
     },
     "execution_count": 62,
     "metadata": {},
     "output_type": "execute_result"
    }
   ],
   "source": [
    "df['Stage_fear'].unique()"
   ]
  },
  {
   "cell_type": "code",
   "execution_count": 63,
   "id": "858b4aa2-6611-4397-978c-deaccbc895b8",
   "metadata": {},
   "outputs": [
    {
     "data": {
      "text/plain": [
       "array(['No', 'Yes', nan], dtype=object)"
      ]
     },
     "execution_count": 63,
     "metadata": {},
     "output_type": "execute_result"
    }
   ],
   "source": [
    "df['Drained_after_socializing'].unique()"
   ]
  },
  {
   "cell_type": "code",
   "execution_count": 64,
   "id": "4782cc32-fe75-4d08-976b-d5ca0fd935fa",
   "metadata": {},
   "outputs": [
    {
     "data": {
      "text/plain": [
       "Stage_fear                   73\n",
       "Drained_after_socializing    51\n",
       "dtype: int64"
      ]
     },
     "execution_count": 64,
     "metadata": {},
     "output_type": "execute_result"
    }
   ],
   "source": [
    "df[cat_features].isnull().sum()"
   ]
  },
  {
   "cell_type": "code",
   "execution_count": 65,
   "id": "761bbed1-b15c-4269-a8f3-a27cb1695ed1",
   "metadata": {},
   "outputs": [
    {
     "data": {
      "text/plain": [
       "Time_spent_Alone             0.000000\n",
       "Stage_fear                   2.906051\n",
       "Social_event_attendance      0.000000\n",
       "Going_outside                0.000000\n",
       "Drained_after_socializing    2.030255\n",
       "Friends_circle_size          0.000000\n",
       "Post_frequency               0.000000\n",
       "Personality                  0.000000\n",
       "dtype: float64"
      ]
     },
     "execution_count": 65,
     "metadata": {},
     "output_type": "execute_result"
    }
   ],
   "source": [
    "df.isnull().mean()*100"
   ]
  },
  {
   "cell_type": "code",
   "execution_count": 66,
   "id": "39d8f371-efc4-433b-ab82-3c6222635550",
   "metadata": {},
   "outputs": [
    {
     "data": {
      "text/plain": [
       "2.906050955414013"
      ]
     },
     "execution_count": 66,
     "metadata": {},
     "output_type": "execute_result"
    }
   ],
   "source": [
    "df['Stage_fear'].isnull().mean()*100"
   ]
  },
  {
   "cell_type": "code",
   "execution_count": 67,
   "id": "9f1f0431-2ccf-4ae9-96a1-4abefbe7e3c9",
   "metadata": {},
   "outputs": [
    {
     "data": {
      "text/plain": [
       "Stage_fear\n",
       "No     1348\n",
       "Yes    1091\n",
       "Name: count, dtype: int64"
      ]
     },
     "execution_count": 67,
     "metadata": {},
     "output_type": "execute_result"
    }
   ],
   "source": [
    "df['Stage_fear'].value_counts()"
   ]
  },
  {
   "cell_type": "code",
   "execution_count": 68,
   "id": "7b16a699-919f-4dd2-86c7-02785901c162",
   "metadata": {},
   "outputs": [
    {
     "data": {
      "text/plain": [
       "<Axes: xlabel='Stage_fear'>"
      ]
     },
     "execution_count": 68,
     "metadata": {},
     "output_type": "execute_result"
    },
    {
     "data": {
      "image/png": "[encoded data removed]",
      "text/plain": [
       "<Figure size 640x480 with 1 Axes>"
      ]
     },
     "metadata": {},
     "output_type": "display_data"
    }
   ],
   "source": [
    "colors = ['lightgreen', 'skyblue','red', 'purple', 'orange']\n",
    "df['Stage_fear'].value_counts().plot(kind='bar',color=colors)\n",
    "#df['Stage_fear'].value_counts().plot(kind='bar', colormap='viridis')"
   ]
  },
  {
   "cell_type": "code",
   "execution_count": 69,
   "id": "67c686cf-2f78-496c-94ed-8c4f348defa0",
   "metadata": {},
   "outputs": [
    {
     "data": {
      "text/plain": [
       "0    No\n",
       "Name: Stage_fear, dtype: object"
      ]
     },
     "execution_count": 69,
     "metadata": {},
     "output_type": "execute_result"
    }
   ],
   "source": [
    "df['Stage_fear'].mode()"
   ]
  },
  {
   "cell_type": "markdown",
   "id": "5969fc5a-8037-4965-aa5f-1af7cd21882b",
   "metadata": {},
   "source": [
    "## Category Column  before imputation Grpah "
   ]
  },
  {
   "cell_type": "code",
   "execution_count": 70,
   "id": "1ac844bb-b247-4d48-beb8-a389cfeb25f9",
   "metadata": {},
   "outputs": [
    {
     "data": {
      "text/plain": [
       "Text(0.5, 1.0, 'Stage_fear')"
      ]
     },
     "execution_count": 70,
     "metadata": {},
     "output_type": "execute_result"
    },
    {
     "data": {
      "image/png": "[encoded data removed]",
      "text/plain": [
       "<Figure size 640x480 with 1 Axes>"
      ]
     },
     "metadata": {},
     "output_type": "display_data"
    }
   ],
   "source": [
    "fig = plt.figure()\n",
    "ax = fig.add_subplot(111)\n",
    "\n",
    "df[df['Stage_fear']=='No']['Friends_circle_size'].plot(kind='kde', ax=ax)\n",
    "\n",
    "df[df['Stage_fear'].isnull()]['Friends_circle_size'].plot(kind='kde', ax=ax, color='red')\n",
    "\n",
    "lines, labels = ax.get_legend_handles_labels()\n",
    "labels = ['Fear No', 'Fear with NA']\n",
    "ax.legend(lines, labels, loc='best')\n",
    "\n",
    "plt.title('Stage_fear')"
   ]
  },
  {
   "cell_type": "code",
   "execution_count": 71,
   "id": "58378cf6-e58a-4b36-8614-2829f74bafa8",
   "metadata": {},
   "outputs": [],
   "source": [
    "temp = df[df['Stage_fear']=='No']['Friends_circle_size']"
   ]
  },
  {
   "cell_type": "markdown",
   "id": "d6f022d4-d1c8-43eb-a24e-aee35f380bcf",
   "metadata": {},
   "source": [
    "## Category Column  After imputation Grpah "
   ]
  },
  {
   "cell_type": "code",
   "execution_count": 72,
   "id": "4c40552b-5f94-468d-9214-e8adaaa72362",
   "metadata": {},
   "outputs": [
    {
     "data": {
      "text/plain": [
       "Stage_fear\n",
       "No     1348\n",
       "Yes    1091\n",
       "Name: count, dtype: int64"
      ]
     },
     "execution_count": 72,
     "metadata": {},
     "output_type": "execute_result"
    }
   ],
   "source": [
    "df['Stage_fear'].value_counts()"
   ]
  },
  {
   "cell_type": "code",
   "execution_count": 73,
   "id": "c9132ce7-f931-43f2-820c-77912ef02c85",
   "metadata": {},
   "outputs": [
    {
     "name": "stdout",
     "output_type": "stream",
     "text": [
      "Stage_fear\n",
      "No     1387\n",
      "Yes    1125\n",
      "Name: count, dtype: int64\n"
     ]
    }
   ],
   "source": [
    "# Assuming df is your DataFrame  \n",
    "null_mask = df['Stage_fear'].isnull()  \n",
    "n_missing = null_mask.sum()  \n",
    "\n",
    "# Randomly sample from existing categories (weighted by their counts)  \n",
    "random_imputation = np.random.choice(\n",
    "    ['No', 'Yes'], \n",
    "    size=n_missing, \n",
    "    p=[1417/(1417+1410), 1410/(1417+1410)]  # Probabilities based on observed frequencies\n",
    ")  \n",
    "# Fill missing values  \n",
    "df.loc[null_mask, 'Stage_fear'] = random_imputation  \n",
    "\n",
    "# Verify counts  \n",
    "print(df['Stage_fear'].value_counts())  "
   ]
  },
  {
   "cell_type": "code",
   "execution_count": 74,
   "id": "ca7abe4c-713b-48dc-a913-853234bf35d6",
   "metadata": {},
   "outputs": [
    {
     "data": {
      "text/plain": [
       "0"
      ]
     },
     "execution_count": 74,
     "metadata": {},
     "output_type": "execute_result"
    }
   ],
   "source": [
    "df['Stage_fear'].isnull().sum()"
   ]
  },
  {
   "cell_type": "code",
   "execution_count": 75,
   "id": "e371d069-2c7c-47e2-9c12-532fa95ba3f3",
   "metadata": {},
   "outputs": [
    {
     "data": {
      "text/plain": [
       "Text(0.5, 1.0, 'Stage_fear')"
      ]
     },
     "execution_count": 75,
     "metadata": {},
     "output_type": "execute_result"
    },
    {
     "data": {
      "image/png": "[encoded data removed]",
      "text/plain": [
       "<Figure size 640x480 with 1 Axes>"
      ]
     },
     "metadata": {},
     "output_type": "display_data"
    }
   ],
   "source": [
    "fig = plt.figure()\n",
    "ax = fig.add_subplot(111)\n",
    "\n",
    "\n",
    "temp.plot(kind='kde', ax=ax)\n",
    "#temp2.plot(kind='kde', ax=ax)\n",
    "\n",
    "# distribution of the variable after imputation\n",
    "df[df['Stage_fear'] == 'No']['Friends_circle_size'].plot(kind='kde', ax=ax, color='green')\n",
    "\n",
    "lines, labels = ax.get_legend_handles_labels()\n",
    "labels = ['Original variable', 'Imputed variable']\n",
    "ax.legend(lines, labels, loc='best')\n",
    "\n",
    "# add title\n",
    "plt.title('Stage_fear')"
   ]
  },
  {
   "cell_type": "code",
   "execution_count": 76,
   "id": "ad1ca6b6-f616-495d-9803-e783c3dcf741",
   "metadata": {},
   "outputs": [
    {
     "data": {
      "text/plain": [
       "array(['No', 'Yes', nan], dtype=object)"
      ]
     },
     "execution_count": 76,
     "metadata": {},
     "output_type": "execute_result"
    }
   ],
   "source": [
    "df['Drained_after_socializing'].unique()"
   ]
  },
  {
   "cell_type": "code",
   "execution_count": 77,
   "id": "31bf5d1a-5d2e-415e-bfcf-6f6c58e03e68",
   "metadata": {},
   "outputs": [
    {
     "data": {
      "text/plain": [
       "Stage_fear                    0\n",
       "Drained_after_socializing    51\n",
       "dtype: int64"
      ]
     },
     "execution_count": 77,
     "metadata": {},
     "output_type": "execute_result"
    }
   ],
   "source": [
    "df[cat_features].isnull().sum()"
   ]
  },
  {
   "cell_type": "code",
   "execution_count": 78,
   "id": "7c7c3d42-a24c-4664-a0c0-48bdf7b2e8d8",
   "metadata": {},
   "outputs": [
    {
     "data": {
      "text/plain": [
       "2.0302547770700636"
      ]
     },
     "execution_count": 78,
     "metadata": {},
     "output_type": "execute_result"
    }
   ],
   "source": [
    "df['Drained_after_socializing'].isnull().mean()*100"
   ]
  },
  {
   "cell_type": "code",
   "execution_count": 79,
   "id": "0f3b38e6-8973-4a30-b088-455c57f60004",
   "metadata": {},
   "outputs": [
    {
     "data": {
      "text/plain": [
       "Drained_after_socializing\n",
       "No     1372\n",
       "Yes    1089\n",
       "Name: count, dtype: int64"
      ]
     },
     "execution_count": 79,
     "metadata": {},
     "output_type": "execute_result"
    }
   ],
   "source": [
    "df['Drained_after_socializing'].value_counts()"
   ]
  },
  {
   "cell_type": "code",
   "execution_count": 80,
   "id": "0380ff37-af55-42ac-9187-28e66518a150",
   "metadata": {},
   "outputs": [
    {
     "data": {
      "text/plain": [
       "<Axes: xlabel='Drained_after_socializing'>"
      ]
     },
     "execution_count": 80,
     "metadata": {},
     "output_type": "execute_result"
    },
    {
     "data": {
      "image/png": "[encoded data removed]",
      "text/plain": [
       "<Figure size 640x480 with 1 Axes>"
      ]
     },
     "metadata": {},
     "output_type": "display_data"
    }
   ],
   "source": [
    "colors = ['lightgreen', 'skyblue','red', 'purple', 'orange']\n",
    "df['Drained_after_socializing'].value_counts().plot(kind='bar',color=colors)\n",
    "#df['Stage_fear'].value_counts().plot(kind='bar', colormap='viridis')"
   ]
  },
  {
   "cell_type": "code",
   "execution_count": 81,
   "id": "ab5d1aab-87ed-4028-a866-161d83c6854e",
   "metadata": {},
   "outputs": [
    {
     "data": {
      "text/plain": [
       "Text(0.5, 1.0, 'Drained_after_socializing')"
      ]
     },
     "execution_count": 81,
     "metadata": {},
     "output_type": "execute_result"
    },
    {
     "data": {
      "image/png": "[encoded data removed]",
      "text/plain": [
       "<Figure size 640x480 with 1 Axes>"
      ]
     },
     "metadata": {},
     "output_type": "display_data"
    }
   ],
   "source": [
    "fig = plt.figure()\n",
    "ax = fig.add_subplot(111)\n",
    "\n",
    "df[df['Drained_after_socializing']=='No']['Friends_circle_size'].plot(kind='kde', ax=ax)\n",
    "\n",
    "df[df['Drained_after_socializing'].isnull()]['Friends_circle_size'].plot(kind='kde', ax=ax, color='red')\n",
    "\n",
    "lines, labels = ax.get_legend_handles_labels()\n",
    "labels = ['Fear No', 'Fear with NA']\n",
    "ax.legend(lines, labels, loc='best')\n",
    "\n",
    "plt.title('Drained_after_socializing')"
   ]
  },
  {
   "cell_type": "code",
   "execution_count": 82,
   "id": "f059f3f4-a7f1-41c1-b845-d89a5e42b7f4",
   "metadata": {},
   "outputs": [],
   "source": [
    "temp = df[df['Drained_after_socializing']=='No']['Friends_circle_size']"
   ]
  },
  {
   "cell_type": "code",
   "execution_count": 83,
   "id": "09684bf0-fe91-4e9f-af1f-ecac8e938d81",
   "metadata": {},
   "outputs": [
    {
     "data": {
      "text/plain": [
       "Drained_after_socializing\n",
       "No     1372\n",
       "Yes    1089\n",
       "Name: count, dtype: int64"
      ]
     },
     "execution_count": 83,
     "metadata": {},
     "output_type": "execute_result"
    }
   ],
   "source": [
    "df['Drained_after_socializing'].value_counts()"
   ]
  },
  {
   "cell_type": "code",
   "execution_count": 84,
   "id": "4f71b396-7014-4b1d-ba1e-137b792fd6ee",
   "metadata": {},
   "outputs": [
    {
     "name": "stdout",
     "output_type": "stream",
     "text": [
      "Drained_after_socializing\n",
      "No     1404\n",
      "Yes    1108\n",
      "Name: count, dtype: int64\n"
     ]
    }
   ],
   "source": [
    "# Assuming df is your DataFrame  \n",
    "null_mask = df['Drained_after_socializing'].isnull()  \n",
    "n_missing = null_mask.sum()  \n",
    "\n",
    "# Randomly sample from existing categories (weighted by their counts)  \n",
    "random_imputation = np.random.choice(\n",
    "    ['No', 'Yes'], \n",
    "    size=n_missing, \n",
    "    p=[1372/(1372+1089), 1089/(1372+1089)]  # Probabilities based on observed frequencies\n",
    ")  \n",
    "# Fill missing values  \n",
    "df.loc[null_mask, 'Drained_after_socializing'] = random_imputation  \n",
    "\n",
    "# Verify counts  \n",
    "print(df['Drained_after_socializing'].value_counts())  "
   ]
  },
  {
   "cell_type": "code",
   "execution_count": 85,
   "id": "039d8a56-4fbc-4979-b022-1aa7458eb860",
   "metadata": {},
   "outputs": [
    {
     "data": {
      "text/plain": [
       "Text(0.5, 1.0, 'Stage_fear')"
      ]
     },
     "execution_count": 85,
     "metadata": {},
     "output_type": "execute_result"
    },
    {
     "data": {
      "image/png": "[encoded data removed]",
      "text/plain": [
       "<Figure size 640x480 with 1 Axes>"
      ]
     },
     "metadata": {},
     "output_type": "display_data"
    }
   ],
   "source": [
    "fig = plt.figure()\n",
    "ax = fig.add_subplot(111)\n",
    "\n",
    "\n",
    "temp.plot(kind='kde', ax=ax)\n",
    "#temp2.plot(kind='kde', ax=ax)\n",
    "\n",
    "# distribution of the variable after imputation\n",
    "df[df['Drained_after_socializing'] == 'No']['Friends_circle_size'].plot(kind='kde', ax=ax, color='green')\n",
    "\n",
    "lines, labels = ax.get_legend_handles_labels()\n",
    "labels = ['Original variable', 'Imputed variable']\n",
    "ax.legend(lines, labels, loc='best')\n",
    "\n",
    "# add title\n",
    "plt.title('Stage_fear')"
   ]
  },
  {
   "cell_type": "code",
   "execution_count": 86,
   "id": "2bb4fd2a-41ae-4de7-ab66-de9c5a91d1c0",
   "metadata": {},
   "outputs": [],
   "source": [
    "mapping = {'No': 0, 'Yes': 1}\n",
    "personality_map = {\n",
    "    'Introvert': 0,\n",
    "    'Extrovert': 1\n",
    "}\n",
    "\n",
    "df['Stage_fear'] = df['Stage_fear'].map(mapping)\n",
    "df['Drained_after_socializing'] = df['Drained_after_socializing'].map(mapping)\n",
    "df['Personality'] = df['Personality'].map(personality_map)"
   ]
  },
  {
   "cell_type": "code",
   "execution_count": 87,
   "id": "9876b7f5-04bb-46e7-b1da-0829b04e2759",
   "metadata": {},
   "outputs": [
    {
     "data": {
      "text/html": [
       "<div>\n",
       "<style scoped>\n",
       "    .dataframe tbody tr th:only-of-type {\n",
       "        vertical-align: middle;\n",
       "    }\n",
       "\n",
       "    .dataframe tbody tr th {\n",
       "        vertical-align: top;\n",
       "    }\n",
       "\n",
       "    .dataframe thead th {\n",
       "        text-align: right;\n",
       "    }\n",
       "</style>\n",
       "<table border=\"1\" class=\"dataframe\">\n",
       "  <thead>\n",
       "    <tr style=\"text-align: right;\">\n",
       "      <th></th>\n",
       "      <th>Time_spent_Alone</th>\n",
       "      <th>Stage_fear</th>\n",
       "      <th>Social_event_attendance</th>\n",
       "      <th>Going_outside</th>\n",
       "      <th>Drained_after_socializing</th>\n",
       "      <th>Friends_circle_size</th>\n",
       "      <th>Post_frequency</th>\n",
       "      <th>Personality</th>\n",
       "    </tr>\n",
       "  </thead>\n",
       "  <tbody>\n",
       "    <tr>\n",
       "      <th>0</th>\n",
       "      <td>4.0</td>\n",
       "      <td>0</td>\n",
       "      <td>4.0</td>\n",
       "      <td>6.0</td>\n",
       "      <td>0</td>\n",
       "      <td>13.0</td>\n",
       "      <td>5.0</td>\n",
       "      <td>1</td>\n",
       "    </tr>\n",
       "    <tr>\n",
       "      <th>1</th>\n",
       "      <td>9.0</td>\n",
       "      <td>1</td>\n",
       "      <td>0.0</td>\n",
       "      <td>0.0</td>\n",
       "      <td>1</td>\n",
       "      <td>0.0</td>\n",
       "      <td>3.0</td>\n",
       "      <td>0</td>\n",
       "    </tr>\n",
       "    <tr>\n",
       "      <th>2</th>\n",
       "      <td>9.0</td>\n",
       "      <td>1</td>\n",
       "      <td>1.0</td>\n",
       "      <td>2.0</td>\n",
       "      <td>1</td>\n",
       "      <td>5.0</td>\n",
       "      <td>2.0</td>\n",
       "      <td>0</td>\n",
       "    </tr>\n",
       "    <tr>\n",
       "      <th>3</th>\n",
       "      <td>0.0</td>\n",
       "      <td>0</td>\n",
       "      <td>6.0</td>\n",
       "      <td>7.0</td>\n",
       "      <td>0</td>\n",
       "      <td>14.0</td>\n",
       "      <td>8.0</td>\n",
       "      <td>1</td>\n",
       "    </tr>\n",
       "    <tr>\n",
       "      <th>4</th>\n",
       "      <td>3.0</td>\n",
       "      <td>0</td>\n",
       "      <td>9.0</td>\n",
       "      <td>4.0</td>\n",
       "      <td>0</td>\n",
       "      <td>8.0</td>\n",
       "      <td>5.0</td>\n",
       "      <td>1</td>\n",
       "    </tr>\n",
       "  </tbody>\n",
       "</table>\n",
       "</div>"
      ],
      "text/plain": [
       "   Time_spent_Alone  Stage_fear  Social_event_attendance  Going_outside  \\\n",
       "0               4.0           0                      4.0            6.0   \n",
       "1               9.0           1                      0.0            0.0   \n",
       "2               9.0           1                      1.0            2.0   \n",
       "3               0.0           0                      6.0            7.0   \n",
       "4               3.0           0                      9.0            4.0   \n",
       "\n",
       "   Drained_after_socializing  Friends_circle_size  Post_frequency  Personality  \n",
       "0                          0                 13.0             5.0            1  \n",
       "1                          1                  0.0             3.0            0  \n",
       "2                          1                  5.0             2.0            0  \n",
       "3                          0                 14.0             8.0            1  \n",
       "4                          0                  8.0             5.0            1  "
      ]
     },
     "execution_count": 87,
     "metadata": {},
     "output_type": "execute_result"
    }
   ],
   "source": [
    "df.head()"
   ]
  },
  {
   "cell_type": "code",
   "execution_count": 88,
   "id": "da35c7cd-ce70-409b-8a7b-adbdff55115f",
   "metadata": {},
   "outputs": [],
   "source": [
    " scaler = StandardScaler()\n",
    "df[num_features] = scaler.fit_transform(df[num_features])"
   ]
  },
  {
   "cell_type": "code",
   "execution_count": 89,
   "id": "d6a0627e-72a1-4b8d-90cc-a0d661ca22db",
   "metadata": {},
   "outputs": [
    {
     "data": {
      "text/html": [
       "<div>\n",
       "<style scoped>\n",
       "    .dataframe tbody tr th:only-of-type {\n",
       "        vertical-align: middle;\n",
       "    }\n",
       "\n",
       "    .dataframe tbody tr th {\n",
       "        vertical-align: top;\n",
       "    }\n",
       "\n",
       "    .dataframe thead th {\n",
       "        text-align: right;\n",
       "    }\n",
       "</style>\n",
       "<table border=\"1\" class=\"dataframe\">\n",
       "  <thead>\n",
       "    <tr style=\"text-align: right;\">\n",
       "      <th></th>\n",
       "      <th>Time_spent_Alone</th>\n",
       "      <th>Stage_fear</th>\n",
       "      <th>Social_event_attendance</th>\n",
       "      <th>Going_outside</th>\n",
       "      <th>Drained_after_socializing</th>\n",
       "      <th>Friends_circle_size</th>\n",
       "      <th>Post_frequency</th>\n",
       "      <th>Personality</th>\n",
       "    </tr>\n",
       "  </thead>\n",
       "  <tbody>\n",
       "    <tr>\n",
       "      <th>0</th>\n",
       "      <td>-0.061497</td>\n",
       "      <td>0</td>\n",
       "      <td>-0.076262</td>\n",
       "      <td>1.261784</td>\n",
       "      <td>0</td>\n",
       "      <td>1.501153</td>\n",
       "      <td>0.401335</td>\n",
       "      <td>1</td>\n",
       "    </tr>\n",
       "    <tr>\n",
       "      <th>1</th>\n",
       "      <td>1.407602</td>\n",
       "      <td>1</td>\n",
       "      <td>-1.468569</td>\n",
       "      <td>-1.445833</td>\n",
       "      <td>1</td>\n",
       "      <td>-1.551548</td>\n",
       "      <td>-0.285506</td>\n",
       "      <td>0</td>\n",
       "    </tr>\n",
       "    <tr>\n",
       "      <th>2</th>\n",
       "      <td>1.407602</td>\n",
       "      <td>1</td>\n",
       "      <td>-1.120492</td>\n",
       "      <td>-0.543294</td>\n",
       "      <td>1</td>\n",
       "      <td>-0.377432</td>\n",
       "      <td>-0.628927</td>\n",
       "      <td>0</td>\n",
       "    </tr>\n",
       "    <tr>\n",
       "      <th>3</th>\n",
       "      <td>-1.236776</td>\n",
       "      <td>0</td>\n",
       "      <td>0.619892</td>\n",
       "      <td>1.713054</td>\n",
       "      <td>0</td>\n",
       "      <td>1.735976</td>\n",
       "      <td>1.431598</td>\n",
       "      <td>1</td>\n",
       "    </tr>\n",
       "    <tr>\n",
       "      <th>4</th>\n",
       "      <td>-0.355317</td>\n",
       "      <td>0</td>\n",
       "      <td>1.664123</td>\n",
       "      <td>0.359245</td>\n",
       "      <td>0</td>\n",
       "      <td>0.327037</td>\n",
       "      <td>0.401335</td>\n",
       "      <td>1</td>\n",
       "    </tr>\n",
       "  </tbody>\n",
       "</table>\n",
       "</div>"
      ],
      "text/plain": [
       "   Time_spent_Alone  Stage_fear  Social_event_attendance  Going_outside  \\\n",
       "0         -0.061497           0                -0.076262       1.261784   \n",
       "1          1.407602           1                -1.468569      -1.445833   \n",
       "2          1.407602           1                -1.120492      -0.543294   \n",
       "3         -1.236776           0                 0.619892       1.713054   \n",
       "4         -0.355317           0                 1.664123       0.359245   \n",
       "\n",
       "   Drained_after_socializing  Friends_circle_size  Post_frequency  Personality  \n",
       "0                          0             1.501153        0.401335            1  \n",
       "1                          1            -1.551548       -0.285506            0  \n",
       "2                          1            -0.377432       -0.628927            0  \n",
       "3                          0             1.735976        1.431598            1  \n",
       "4                          0             0.327037        0.401335            1  "
      ]
     },
     "execution_count": 89,
     "metadata": {},
     "output_type": "execute_result"
    }
   ],
   "source": [
    "df.head()"
   ]
  },
  {
   "cell_type": "code",
   "execution_count": 90,
   "id": "5f9a539f-ecd3-4b79-9b51-289f4a659883",
   "metadata": {},
   "outputs": [
    {
     "data": {
      "text/plain": [
       "Time_spent_Alone             0\n",
       "Stage_fear                   0\n",
       "Social_event_attendance      0\n",
       "Going_outside                0\n",
       "Drained_after_socializing    0\n",
       "Friends_circle_size          0\n",
       "Post_frequency               0\n",
       "Personality                  0\n",
       "dtype: int64"
      ]
     },
     "execution_count": 90,
     "metadata": {},
     "output_type": "execute_result"
    }
   ],
   "source": [
    "df.isnull().sum()"
   ]
  },
  {
   "cell_type": "code",
   "execution_count": 91,
   "id": "81d54648-2868-4483-b39e-1085c5dc5527",
   "metadata": {},
   "outputs": [
    {
     "data": {
      "text/plain": [
       "Time_spent_Alone            -0.699726\n",
       "Stage_fear                  -0.829166\n",
       "Social_event_attendance      0.697663\n",
       "Going_outside                0.713393\n",
       "Drained_after_socializing   -0.832710\n",
       "Friends_circle_size          0.662021\n",
       "Post_frequency               0.693814\n",
       "Name: Personality, dtype: float64"
      ]
     },
     "execution_count": 91,
     "metadata": {},
     "output_type": "execute_result"
    }
   ],
   "source": [
    "df.corr()[\"Personality\"].drop(\"Personality\")"
   ]
  },
  {
   "cell_type": "code",
   "execution_count": 92,
   "id": "a781e0d8-4a2e-47ec-ab85-0735d0868800",
   "metadata": {},
   "outputs": [],
   "source": [
    "df['Personality'] = df['Personality'].astype(str)\n",
    "\n",
    "features = [\n",
    "    'Time_spent_Alone',\n",
    "    'Stage_fear',\n",
    "    'Social_event_attendance',\n",
    "    'Going_outside',\n",
    "    'Drained_after_socializing',\n",
    "    'Friends_circle_size',\n",
    "    'Post_frequency'\n",
    "]"
   ]
  },
  {
   "cell_type": "code",
   "execution_count": 94,
   "id": "d2404add-15cc-4bd6-b961-877509411763",
   "metadata": {},
   "outputs": [],
   "source": [
    "le = LabelEncoder()\n",
    "y = le.fit_transform(df['Personality'])\n",
    "\n",
    "X = df.drop(columns = ['Personality'])\n",
    "\n",
    "X_train, X_test, y_train, y_test = train_test_split(\n",
    "    X, y, test_size=0.2, random_state=42\n",
    ")\n",
    "\n",
    "# Feature selection\n",
    "### k_best = SelectKBest(score_func=chi2, k=20)\n",
    "### X_train_selected = k_best.fit_transform(X_train, y_train)\n",
    "### X_test_selected = k_best.transform(X_test)\n"
   ]
  },
  {
   "cell_type": "code",
   "execution_count": 95,
   "id": "cefc5426-d3ff-4f8a-b74b-2a963e6c16e0",
   "metadata": {},
   "outputs": [
    {
     "name": "stdout",
     "output_type": "stream",
     "text": [
      "Logistic Regression:\n",
      "               precision    recall  f1-score   support\n",
      "\n",
      "           0       0.92      0.91      0.91       221\n",
      "           1       0.93      0.94      0.93       282\n",
      "\n",
      "    accuracy                           0.92       503\n",
      "   macro avg       0.92      0.92      0.92       503\n",
      "weighted avg       0.92      0.92      0.92       503\n",
      "\n"
     ]
    }
   ],
   "source": [
    "from sklearn.linear_model import LogisticRegression\n",
    "\n",
    "log_model = LogisticRegression()\n",
    "log_model.fit(X_train, y_train)\n",
    "log_pred = log_model.predict(X_test)\n",
    "\n",
    "print(\"Logistic Regression:\\n\", classification_report(y_test, log_pred, target_names=le.classes_))"
   ]
  },
  {
   "cell_type": "code",
   "execution_count": 96,
   "id": "03b1f2f0-c6b4-42e2-a272-f16e4517688f",
   "metadata": {},
   "outputs": [
    {
     "name": "stdout",
     "output_type": "stream",
     "text": [
      "Random Forest:\n",
      "               precision    recall  f1-score   support\n",
      "\n",
      "           0       0.89      0.89      0.89       221\n",
      "           1       0.91      0.91      0.91       282\n",
      "\n",
      "    accuracy                           0.90       503\n",
      "   macro avg       0.90      0.90      0.90       503\n",
      "weighted avg       0.90      0.90      0.90       503\n",
      "\n"
     ]
    }
   ],
   "source": [
    "from sklearn.ensemble import RandomForestClassifier\n",
    "\n",
    "rf_model = RandomForestClassifier(random_state=42)\n",
    "rf_model.fit(X_train, y_train)\n",
    "rf_pred = rf_model.predict(X_test)\n",
    "\n",
    "print(\"Random Forest:\\n\", classification_report(y_test, rf_pred, target_names=le.classes_))"
   ]
  },
  {
   "cell_type": "code",
   "execution_count": 97,
   "id": "4398c0dc-4409-4b52-9e82-b8bffc9433ba",
   "metadata": {},
   "outputs": [
    {
     "name": "stdout",
     "output_type": "stream",
     "text": [
      "Gradient Boosting:\n",
      "               precision    recall  f1-score   support\n",
      "\n",
      "           0       0.92      0.92      0.92       221\n",
      "           1       0.94      0.94      0.94       282\n",
      "\n",
      "    accuracy                           0.93       503\n",
      "   macro avg       0.93      0.93      0.93       503\n",
      "weighted avg       0.93      0.93      0.93       503\n",
      "\n"
     ]
    }
   ],
   "source": [
    "from sklearn.ensemble import GradientBoostingClassifier\n",
    "\n",
    "gb_model = GradientBoostingClassifier(random_state=42)\n",
    "gb_model.fit(X_train, y_train)\n",
    "gb_pred = gb_model.predict(X_test)\n",
    "\n",
    "print(\"Gradient Boosting:\\n\", classification_report(y_test, gb_pred, target_names=le.classes_))\n"
   ]
  },
  {
   "cell_type": "code",
   "execution_count": 98,
   "id": "4bc04392-db65-4b52-95d5-5d5f018b6431",
   "metadata": {},
   "outputs": [
    {
     "name": "stdout",
     "output_type": "stream",
     "text": [
      "Model Accuracy Summary:\n",
      "Logistic Regression: 0.9244532803180915\n",
      "Random Forest: 0.9025844930417495\n",
      "Gradient Boosting: 0.9324055666003976\n"
     ]
    }
   ],
   "source": [
    "print(\"Model Accuracy Summary:\")\n",
    "print(\"Logistic Regression:\", accuracy_score(y_test, log_pred))\n",
    "print(\"Random Forest:\", accuracy_score(y_test, rf_pred))\n",
    "print(\"Gradient Boosting:\", accuracy_score(y_test, gb_pred))\n",
    "##print(\"XGBoost:\", accuracy_score(y_test, xgb_pred))\n",
    "##print(\"LightGBM:\", accuracy_score(y_test, lgbm_pred))"
   ]
  }
 ],
 "metadata": {
  "kernelspec": {
   "display_name": "Python 3 (ipykernel)",
   "language": "python",
   "name": "python3"
  },
  "language_info": {
   "codemirror_mode": {
    "name": "ipython",
    "version": 3
   },
   "file_extension": ".py",
   "mimetype": "text/x-python",
   "name": "python",
   "nbconvert_exporter": "python",
   "pygments_lexer": "ipython3",
   "version": "3.12.7"
  }
 },
 "nbformat": 4,
 "nbformat_minor": 5
}
